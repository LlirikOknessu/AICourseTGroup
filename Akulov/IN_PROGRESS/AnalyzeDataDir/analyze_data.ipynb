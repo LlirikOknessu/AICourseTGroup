{
 "cells": [
  {
   "cell_type": "markdown",
   "id": "7381087c-5328-42d3-a800-1117c20ca6bd",
   "metadata": {},
   "source": [
    "# Введение"
   ]
  },
  {
   "cell_type": "markdown",
   "id": "3fb8955f-f926-437e-b4ff-a9a729cc8ac0",
   "metadata": {},
   "source": [
    "Набор данных содержит информацию о погодных условиях, зарегистрированных в каждый день на различных метеостанциях по всему миру. Информация включает осадки, снегопады, температуру, скорость ветра и то, были ли в этот день грозы или другие плохие погодные условия."
   ]
  },
  {
   "cell_type": "markdown",
   "id": "adfbb1e7-a80f-4325-a33e-51bb7b4ce6e8",
   "metadata": {},
   "source": [
    "## Задание"
   ]
  },
  {
   "cell_type": "markdown",
   "id": "fdfb3717-6bc4-4e9f-a7c8-109e1705e117",
   "metadata": {},
   "source": [
    "Создать модель линейной регрессии для предсказания средней температуры (без использования минимальной и максимальной температуры напрямую), на основе предоставленных данных."
   ]
  },
  {
   "cell_type": "markdown",
   "id": "b8403fc5-370c-492a-9160-0cc2815d2148",
   "metadata": {},
   "source": [
    "### Импорт данных и подключение библиотек"
   ]
  },
  {
   "cell_type": "code",
   "execution_count": 1,
   "id": "2b0374c9-a851-400a-a1a5-cf773af846b7",
   "metadata": {},
   "outputs": [
    {
     "data": {
      "text/html": [
       "<div>\n",
       "<style scoped>\n",
       "    .dataframe tbody tr th:only-of-type {\n",
       "        vertical-align: middle;\n",
       "    }\n",
       "\n",
       "    .dataframe tbody tr th {\n",
       "        vertical-align: top;\n",
       "    }\n",
       "\n",
       "    .dataframe thead th {\n",
       "        text-align: right;\n",
       "    }\n",
       "</style>\n",
       "<table border=\"1\" class=\"dataframe\">\n",
       "  <thead>\n",
       "    <tr style=\"text-align: right;\">\n",
       "      <th></th>\n",
       "      <th>STA</th>\n",
       "      <th>Date</th>\n",
       "      <th>Precip</th>\n",
       "      <th>WindGustSpd</th>\n",
       "      <th>MaxTemp</th>\n",
       "      <th>MinTemp</th>\n",
       "      <th>MeanTemp</th>\n",
       "      <th>Snowfall</th>\n",
       "      <th>PoorWeather</th>\n",
       "      <th>YR</th>\n",
       "      <th>...</th>\n",
       "      <th>FB</th>\n",
       "      <th>FTI</th>\n",
       "      <th>ITH</th>\n",
       "      <th>PGT</th>\n",
       "      <th>TSHDSBRSGF</th>\n",
       "      <th>SD3</th>\n",
       "      <th>RHX</th>\n",
       "      <th>RHN</th>\n",
       "      <th>RVG</th>\n",
       "      <th>WTE</th>\n",
       "    </tr>\n",
       "  </thead>\n",
       "  <tbody>\n",
       "    <tr>\n",
       "      <th>0</th>\n",
       "      <td>10001</td>\n",
       "      <td>1942-7-1</td>\n",
       "      <td>1.016</td>\n",
       "      <td>NaN</td>\n",
       "      <td>25.555556</td>\n",
       "      <td>22.222222</td>\n",
       "      <td>23.888889</td>\n",
       "      <td>0.0</td>\n",
       "      <td>NaN</td>\n",
       "      <td>42</td>\n",
       "      <td>...</td>\n",
       "      <td>NaN</td>\n",
       "      <td>NaN</td>\n",
       "      <td>NaN</td>\n",
       "      <td>NaN</td>\n",
       "      <td>NaN</td>\n",
       "      <td>NaN</td>\n",
       "      <td>NaN</td>\n",
       "      <td>NaN</td>\n",
       "      <td>NaN</td>\n",
       "      <td>NaN</td>\n",
       "    </tr>\n",
       "    <tr>\n",
       "      <th>1</th>\n",
       "      <td>10001</td>\n",
       "      <td>1942-7-2</td>\n",
       "      <td>0</td>\n",
       "      <td>NaN</td>\n",
       "      <td>28.888889</td>\n",
       "      <td>21.666667</td>\n",
       "      <td>25.555556</td>\n",
       "      <td>0.0</td>\n",
       "      <td>NaN</td>\n",
       "      <td>42</td>\n",
       "      <td>...</td>\n",
       "      <td>NaN</td>\n",
       "      <td>NaN</td>\n",
       "      <td>NaN</td>\n",
       "      <td>NaN</td>\n",
       "      <td>NaN</td>\n",
       "      <td>NaN</td>\n",
       "      <td>NaN</td>\n",
       "      <td>NaN</td>\n",
       "      <td>NaN</td>\n",
       "      <td>NaN</td>\n",
       "    </tr>\n",
       "    <tr>\n",
       "      <th>2</th>\n",
       "      <td>10001</td>\n",
       "      <td>1942-7-3</td>\n",
       "      <td>2.54</td>\n",
       "      <td>NaN</td>\n",
       "      <td>26.111111</td>\n",
       "      <td>22.222222</td>\n",
       "      <td>24.444444</td>\n",
       "      <td>0.0</td>\n",
       "      <td>NaN</td>\n",
       "      <td>42</td>\n",
       "      <td>...</td>\n",
       "      <td>NaN</td>\n",
       "      <td>NaN</td>\n",
       "      <td>NaN</td>\n",
       "      <td>NaN</td>\n",
       "      <td>NaN</td>\n",
       "      <td>NaN</td>\n",
       "      <td>NaN</td>\n",
       "      <td>NaN</td>\n",
       "      <td>NaN</td>\n",
       "      <td>NaN</td>\n",
       "    </tr>\n",
       "    <tr>\n",
       "      <th>3</th>\n",
       "      <td>10001</td>\n",
       "      <td>1942-7-4</td>\n",
       "      <td>2.54</td>\n",
       "      <td>NaN</td>\n",
       "      <td>26.666667</td>\n",
       "      <td>22.222222</td>\n",
       "      <td>24.444444</td>\n",
       "      <td>0.0</td>\n",
       "      <td>NaN</td>\n",
       "      <td>42</td>\n",
       "      <td>...</td>\n",
       "      <td>NaN</td>\n",
       "      <td>NaN</td>\n",
       "      <td>NaN</td>\n",
       "      <td>NaN</td>\n",
       "      <td>NaN</td>\n",
       "      <td>NaN</td>\n",
       "      <td>NaN</td>\n",
       "      <td>NaN</td>\n",
       "      <td>NaN</td>\n",
       "      <td>NaN</td>\n",
       "    </tr>\n",
       "    <tr>\n",
       "      <th>4</th>\n",
       "      <td>10001</td>\n",
       "      <td>1942-7-5</td>\n",
       "      <td>0</td>\n",
       "      <td>NaN</td>\n",
       "      <td>26.666667</td>\n",
       "      <td>21.666667</td>\n",
       "      <td>24.444444</td>\n",
       "      <td>0.0</td>\n",
       "      <td>NaN</td>\n",
       "      <td>42</td>\n",
       "      <td>...</td>\n",
       "      <td>NaN</td>\n",
       "      <td>NaN</td>\n",
       "      <td>NaN</td>\n",
       "      <td>NaN</td>\n",
       "      <td>NaN</td>\n",
       "      <td>NaN</td>\n",
       "      <td>NaN</td>\n",
       "      <td>NaN</td>\n",
       "      <td>NaN</td>\n",
       "      <td>NaN</td>\n",
       "    </tr>\n",
       "  </tbody>\n",
       "</table>\n",
       "<p>5 rows × 31 columns</p>\n",
       "</div>"
      ],
      "text/plain": [
       "     STA      Date Precip  WindGustSpd    MaxTemp    MinTemp   MeanTemp  \\\n",
       "0  10001  1942-7-1  1.016          NaN  25.555556  22.222222  23.888889   \n",
       "1  10001  1942-7-2      0          NaN  28.888889  21.666667  25.555556   \n",
       "2  10001  1942-7-3   2.54          NaN  26.111111  22.222222  24.444444   \n",
       "3  10001  1942-7-4   2.54          NaN  26.666667  22.222222  24.444444   \n",
       "4  10001  1942-7-5      0          NaN  26.666667  21.666667  24.444444   \n",
       "\n",
       "  Snowfall PoorWeather  YR  ...  FB  FTI ITH  PGT  TSHDSBRSGF  SD3  RHX  RHN  \\\n",
       "0      0.0         NaN  42  ... NaN  NaN NaN  NaN         NaN  NaN  NaN  NaN   \n",
       "1      0.0         NaN  42  ... NaN  NaN NaN  NaN         NaN  NaN  NaN  NaN   \n",
       "2      0.0         NaN  42  ... NaN  NaN NaN  NaN         NaN  NaN  NaN  NaN   \n",
       "3      0.0         NaN  42  ... NaN  NaN NaN  NaN         NaN  NaN  NaN  NaN   \n",
       "4      0.0         NaN  42  ... NaN  NaN NaN  NaN         NaN  NaN  NaN  NaN   \n",
       "\n",
       "  RVG  WTE  \n",
       "0 NaN  NaN  \n",
       "1 NaN  NaN  \n",
       "2 NaN  NaN  \n",
       "3 NaN  NaN  \n",
       "4 NaN  NaN  \n",
       "\n",
       "[5 rows x 31 columns]"
      ]
     },
     "execution_count": 1,
     "metadata": {},
     "output_type": "execute_result"
    }
   ],
   "source": [
    "import numpy as np\n",
    "import pandas as pd\n",
    "import matplotlib.pyplot as plt\n",
    "\n",
    "data = pd.read_csv('Summary_of_Weather.csv', low_memory=False)\n",
    "data.head()"
   ]
  },
  {
   "cell_type": "code",
   "execution_count": 2,
   "id": "3a70c35f-b0e1-4212-8bd7-4497126f3c30",
   "metadata": {},
   "outputs": [
    {
     "data": {
      "text/plain": [
       "PoorWeather\n",
       "1             24048\n",
       "1.0            5709\n",
       "0               801\n",
       "1     1         284\n",
       "100000          247\n",
       "1 1             122\n",
       "1 1  1           86\n",
       "1000             86\n",
       "100001           59\n",
       "101000           55\n",
       "1    1           53\n",
       "1000001000       50\n",
       "1  1             44\n",
       "1000001001       42\n",
       "11               37\n",
       "1001             15\n",
       "1   1 1          14\n",
       "1100000          14\n",
       "1000101001       13\n",
       "101001           12\n",
       "1000101000        9\n",
       "11 1              7\n",
       "1000000000        6\n",
       "1000000           6\n",
       "11    1           5\n",
       "1010001000        5\n",
       "1     1  1        4\n",
       "1010001001        2\n",
       "1 0  1            2\n",
       "1   1 1  1        2\n",
       "1000100001        2\n",
       "1101000           2\n",
       "10001001          1\n",
       "1     0           1\n",
       "1000100000        1\n",
       "1 0               1\n",
       "1101001           1\n",
       "1   1             1\n",
       "1        1        1\n",
       "Name: count, dtype: int64"
      ]
     },
     "execution_count": 2,
     "metadata": {},
     "output_type": "execute_result"
    }
   ],
   "source": [
    "data.PoorWeather.value_counts()"
   ]
  },
  {
   "cell_type": "markdown",
   "id": "adab291b-4395-4f8a-accc-7e384184dab0",
   "metadata": {},
   "source": [
    "Тут представлена часть данных для наглядности содержания"
   ]
  },
  {
   "cell_type": "code",
   "execution_count": 3,
   "id": "a4da3e12-74a6-4443-9939-bb603a8bacb4",
   "metadata": {
    "scrolled": true
   },
   "outputs": [
    {
     "name": "stdout",
     "output_type": "stream",
     "text": [
      "<class 'pandas.core.frame.DataFrame'>\n",
      "RangeIndex: 110707 entries, 0 to 110706\n",
      "Data columns (total 31 columns):\n",
      " #   Column       Non-Null Count   Dtype  \n",
      "---  ------       --------------   -----  \n",
      " 0   STA          110707 non-null  int64  \n",
      " 1   Date         110707 non-null  object \n",
      " 2   Precip       110707 non-null  object \n",
      " 3   WindGustSpd  495 non-null     float64\n",
      " 4   MaxTemp      110707 non-null  float64\n",
      " 5   MinTemp      110707 non-null  float64\n",
      " 6   MeanTemp     110707 non-null  float64\n",
      " 7   Snowfall     109640 non-null  object \n",
      " 8   PoorWeather  31850 non-null   object \n",
      " 9   YR           110707 non-null  int64  \n",
      " 10  MO           110707 non-null  int64  \n",
      " 11  DA           110707 non-null  int64  \n",
      " 12  PRCP         108914 non-null  object \n",
      " 13  DR           496 non-null     float64\n",
      " 14  SPD          495 non-null     float64\n",
      " 15  MAX          110263 non-null  float64\n",
      " 16  MIN          110272 non-null  float64\n",
      " 17  MEA          110243 non-null  float64\n",
      " 18  SNF          109640 non-null  object \n",
      " 19  SND          5178 non-null    float64\n",
      " 20  FT           0 non-null       float64\n",
      " 21  FB           0 non-null       float64\n",
      " 22  FTI          0 non-null       float64\n",
      " 23  ITH          0 non-null       float64\n",
      " 24  PGT          489 non-null     float64\n",
      " 25  TSHDSBRSGF   31850 non-null   object \n",
      " 26  SD3          0 non-null       float64\n",
      " 27  RHX          0 non-null       float64\n",
      " 28  RHN          0 non-null       float64\n",
      " 29  RVG          0 non-null       float64\n",
      " 30  WTE          0 non-null       float64\n",
      "dtypes: float64(20), int64(4), object(7)\n",
      "memory usage: 26.2+ MB\n"
     ]
    }
   ],
   "source": [
    "data.info()"
   ]
  },
  {
   "cell_type": "markdown",
   "id": "6826dfd2-0730-4842-bad0-50cd5b6f1f15",
   "metadata": {},
   "source": [
    "Из анализа колонок видно, что часть из них не имеет данных, поэтому стоит исключить их из анализируемых данных."
   ]
  },
  {
   "cell_type": "code",
   "execution_count": 4,
   "id": "d20748fe-f75a-45b0-a52e-76fd19a5ec90",
   "metadata": {
    "scrolled": true
   },
   "outputs": [
    {
     "name": "stdout",
     "output_type": "stream",
     "text": [
      "<class 'pandas.core.frame.DataFrame'>\n",
      "RangeIndex: 110707 entries, 0 to 110706\n",
      "Data columns (total 22 columns):\n",
      " #   Column       Non-Null Count   Dtype  \n",
      "---  ------       --------------   -----  \n",
      " 0   STA          110707 non-null  int64  \n",
      " 1   Date         110707 non-null  object \n",
      " 2   Precip       110707 non-null  object \n",
      " 3   WindGustSpd  495 non-null     float64\n",
      " 4   MaxTemp      110707 non-null  float64\n",
      " 5   MinTemp      110707 non-null  float64\n",
      " 6   MeanTemp     110707 non-null  float64\n",
      " 7   Snowfall     109640 non-null  object \n",
      " 8   PoorWeather  31850 non-null   object \n",
      " 9   YR           110707 non-null  int64  \n",
      " 10  MO           110707 non-null  int64  \n",
      " 11  DA           110707 non-null  int64  \n",
      " 12  PRCP         108914 non-null  object \n",
      " 13  DR           496 non-null     float64\n",
      " 14  SPD          495 non-null     float64\n",
      " 15  MAX          110263 non-null  float64\n",
      " 16  MIN          110272 non-null  float64\n",
      " 17  MEA          110243 non-null  float64\n",
      " 18  SNF          109640 non-null  object \n",
      " 19  SND          5178 non-null    float64\n",
      " 20  PGT          489 non-null     float64\n",
      " 21  TSHDSBRSGF   31850 non-null   object \n",
      "dtypes: float64(11), int64(4), object(7)\n",
      "memory usage: 18.6+ MB\n"
     ]
    }
   ],
   "source": [
    "data.drop(['FT', 'FB', 'FTI','ITH','SD3','RHX','RHN','RVG','WTE'], axis=1,inplace=True)\n",
    "data.info()"
   ]
  },
  {
   "cell_type": "markdown",
   "id": "ad950605-0406-4a52-a827-b73467246dd5",
   "metadata": {},
   "source": [
    "Также есть столбцы которые несут в себе одинаковую информацию, но в разных представлениях. Для утверждения факта идентичности столбцов сравним их. "
   ]
  },
  {
   "cell_type": "code",
   "execution_count": 5,
   "id": "09a80454-8d9c-48f5-ab9f-a055f8a775a4",
   "metadata": {
    "scrolled": true
   },
   "outputs": [
    {
     "data": {
      "text/html": [
       "<div>\n",
       "<style scoped>\n",
       "    .dataframe tbody tr th:only-of-type {\n",
       "        vertical-align: middle;\n",
       "    }\n",
       "\n",
       "    .dataframe tbody tr th {\n",
       "        vertical-align: top;\n",
       "    }\n",
       "\n",
       "    .dataframe thead th {\n",
       "        text-align: right;\n",
       "    }\n",
       "</style>\n",
       "<table border=\"1\" class=\"dataframe\">\n",
       "  <thead>\n",
       "    <tr style=\"text-align: right;\">\n",
       "      <th></th>\n",
       "      <th>MaxTemp_VS_MAX</th>\n",
       "      <th>MinTemp_VS_MIN</th>\n",
       "      <th>MeanTemp_VS_MEA</th>\n",
       "    </tr>\n",
       "  </thead>\n",
       "  <tbody>\n",
       "    <tr>\n",
       "      <th>0</th>\n",
       "      <td>8.000001e-09</td>\n",
       "      <td>-4.000000e-09</td>\n",
       "      <td>2.000007e-09</td>\n",
       "    </tr>\n",
       "    <tr>\n",
       "      <th>1</th>\n",
       "      <td>2.000007e-09</td>\n",
       "      <td>5.999993e-09</td>\n",
       "      <td>8.000001e-09</td>\n",
       "    </tr>\n",
       "    <tr>\n",
       "      <th>2</th>\n",
       "      <td>-2.000007e-09</td>\n",
       "      <td>-4.000000e-09</td>\n",
       "      <td>-8.000001e-09</td>\n",
       "    </tr>\n",
       "    <tr>\n",
       "      <th>3</th>\n",
       "      <td>5.999993e-09</td>\n",
       "      <td>-4.000000e-09</td>\n",
       "      <td>-8.000001e-09</td>\n",
       "    </tr>\n",
       "    <tr>\n",
       "      <th>4</th>\n",
       "      <td>5.999993e-09</td>\n",
       "      <td>5.999993e-09</td>\n",
       "      <td>-8.000001e-09</td>\n",
       "    </tr>\n",
       "  </tbody>\n",
       "</table>\n",
       "</div>"
      ],
      "text/plain": [
       "   MaxTemp_VS_MAX  MinTemp_VS_MIN  MeanTemp_VS_MEA\n",
       "0    8.000001e-09   -4.000000e-09     2.000007e-09\n",
       "1    2.000007e-09    5.999993e-09     8.000001e-09\n",
       "2   -2.000007e-09   -4.000000e-09    -8.000001e-09\n",
       "3    5.999993e-09   -4.000000e-09    -8.000001e-09\n",
       "4    5.999993e-09    5.999993e-09    -8.000001e-09"
      ]
     },
     "execution_count": 5,
     "metadata": {},
     "output_type": "execute_result"
    }
   ],
   "source": [
    "df_analyze = pd.DataFrame()\n",
    "df_analyze['MaxTemp_VS_MAX'] = (data['MaxTemp'] * 1.8 + 32) - data['MAX']\n",
    "df_analyze['MinTemp_VS_MIN'] = (data['MinTemp'] * 1.8 + 32) - data['MIN']\n",
    "df_analyze['MeanTemp_VS_MEA'] = (data['MeanTemp'] * 1.8 + 32) - data['MEA']\n",
    "df_analyze.head() "
   ]
  },
  {
   "cell_type": "code",
   "execution_count": 6,
   "id": "b37a85c1-9187-4218-bb44-9b98c66f88e9",
   "metadata": {
    "scrolled": true
   },
   "outputs": [
    {
     "name": "stdout",
     "output_type": "stream",
     "text": [
      "Минимальное значение по столбцам:\n",
      " MaxTemp_VS_MAX    -8.000001e-09\n",
      "MinTemp_VS_MIN    -8.000001e-09\n",
      "MeanTemp_VS_MEA   -8.000001e-09\n",
      "dtype: float64\n",
      "Максимальное значение по столбцам:\n",
      " MaxTemp_VS_MAX     8.000001e-09\n",
      "MinTemp_VS_MIN     8.000001e-09\n",
      "MeanTemp_VS_MEA    8.000001e-09\n",
      "dtype: float64\n"
     ]
    }
   ],
   "source": [
    "print('Минимальное значение по столбцам:\\n', df_analyze.min())\n",
    "print('Максимальное значение по столбцам:\\n', df_analyze.max())"
   ]
  },
  {
   "cell_type": "markdown",
   "id": "46c4cad2-bcd3-476c-a6c3-ddc5b14fc96b",
   "metadata": {},
   "source": [
    "Исходя из этого исключим из датасета значения температуры в фаренгейтах"
   ]
  },
  {
   "cell_type": "code",
   "execution_count": 7,
   "id": "ec1869a3-82da-4e77-a5aa-999aedfd0eae",
   "metadata": {
    "scrolled": true
   },
   "outputs": [
    {
     "name": "stdout",
     "output_type": "stream",
     "text": [
      "<class 'pandas.core.frame.DataFrame'>\n",
      "RangeIndex: 110707 entries, 0 to 110706\n",
      "Data columns (total 19 columns):\n",
      " #   Column       Non-Null Count   Dtype  \n",
      "---  ------       --------------   -----  \n",
      " 0   STA          110707 non-null  int64  \n",
      " 1   Date         110707 non-null  object \n",
      " 2   Precip       110707 non-null  object \n",
      " 3   WindGustSpd  495 non-null     float64\n",
      " 4   MaxTemp      110707 non-null  float64\n",
      " 5   MinTemp      110707 non-null  float64\n",
      " 6   MeanTemp     110707 non-null  float64\n",
      " 7   Snowfall     109640 non-null  object \n",
      " 8   PoorWeather  31850 non-null   object \n",
      " 9   YR           110707 non-null  int64  \n",
      " 10  MO           110707 non-null  int64  \n",
      " 11  DA           110707 non-null  int64  \n",
      " 12  PRCP         108914 non-null  object \n",
      " 13  DR           496 non-null     float64\n",
      " 14  SPD          495 non-null     float64\n",
      " 15  SNF          109640 non-null  object \n",
      " 16  SND          5178 non-null    float64\n",
      " 17  PGT          489 non-null     float64\n",
      " 18  TSHDSBRSGF   31850 non-null   object \n",
      "dtypes: float64(8), int64(4), object(7)\n",
      "memory usage: 16.0+ MB\n"
     ]
    }
   ],
   "source": [
    "data.drop(['MAX','MIN','MEA'], axis=1,inplace=True)\n",
    "data.info()"
   ]
  },
  {
   "cell_type": "markdown",
   "id": "18fd358f-40c2-4337-bb7f-8c120014229f",
   "metadata": {},
   "source": [
    "По описанию датасета колонки \"PoorWeather\" и \"TSHDSBRSGF\" идентичны, необходимо это проверить"
   ]
  },
  {
   "cell_type": "code",
   "execution_count": 8,
   "id": "98da2e8d-ec96-4676-8f82-8d733686aea7",
   "metadata": {
    "scrolled": true
   },
   "outputs": [
    {
     "data": {
      "text/plain": [
       "PoorWeather_VS_TSHDSBRSGF\n",
       "True    110707\n",
       "Name: count, dtype: int64"
      ]
     },
     "execution_count": 8,
     "metadata": {},
     "output_type": "execute_result"
    }
   ],
   "source": [
    "df_analyze['PoorWeather_VS_TSHDSBRSGF'] = np.where(data['PoorWeather'].isnull(), True, data['PoorWeather'] == data['TSHDSBRSGF'])\n",
    "df_analyze.PoorWeather_VS_TSHDSBRSGF.value_counts()"
   ]
  },
  {
   "cell_type": "markdown",
   "id": "838a97df-82c6-4f58-b6e7-435e7c3c4ae9",
   "metadata": {},
   "source": [
    "Исходя из этого можно исключить одну из колонок"
   ]
  },
  {
   "cell_type": "code",
   "execution_count": 9,
   "id": "407d4684-8019-4947-9a4c-466c6374b7ce",
   "metadata": {
    "scrolled": true
   },
   "outputs": [
    {
     "name": "stdout",
     "output_type": "stream",
     "text": [
      "<class 'pandas.core.frame.DataFrame'>\n",
      "RangeIndex: 110707 entries, 0 to 110706\n",
      "Data columns (total 18 columns):\n",
      " #   Column       Non-Null Count   Dtype  \n",
      "---  ------       --------------   -----  \n",
      " 0   STA          110707 non-null  int64  \n",
      " 1   Date         110707 non-null  object \n",
      " 2   Precip       110707 non-null  object \n",
      " 3   WindGustSpd  495 non-null     float64\n",
      " 4   MaxTemp      110707 non-null  float64\n",
      " 5   MinTemp      110707 non-null  float64\n",
      " 6   MeanTemp     110707 non-null  float64\n",
      " 7   Snowfall     109640 non-null  object \n",
      " 8   PoorWeather  31850 non-null   object \n",
      " 9   YR           110707 non-null  int64  \n",
      " 10  MO           110707 non-null  int64  \n",
      " 11  DA           110707 non-null  int64  \n",
      " 12  PRCP         108914 non-null  object \n",
      " 13  DR           496 non-null     float64\n",
      " 14  SPD          495 non-null     float64\n",
      " 15  SNF          109640 non-null  object \n",
      " 16  SND          5178 non-null    float64\n",
      " 17  PGT          489 non-null     float64\n",
      "dtypes: float64(8), int64(4), object(6)\n",
      "memory usage: 15.2+ MB\n"
     ]
    }
   ],
   "source": [
    "data.drop(['TSHDSBRSGF'], axis=1,inplace=True)\n",
    "data.info()"
   ]
  },
  {
   "cell_type": "code",
   "execution_count": 10,
   "id": "d8d2d356-831a-4453-a07b-dc59a1563172",
   "metadata": {
    "scrolled": true
   },
   "outputs": [
    {
     "data": {
      "text/plain": [
       "Precip\n",
       "0          59746\n",
       "T          15572\n",
       "0.254       3145\n",
       "0.508       2716\n",
       "0.762       1869\n",
       "           ...  \n",
       "148.59         1\n",
       "248.92         1\n",
       "144.78         1\n",
       "147.828        1\n",
       "161.036        1\n",
       "Name: count, Length: 531, dtype: int64"
      ]
     },
     "execution_count": 10,
     "metadata": {},
     "output_type": "execute_result"
    }
   ],
   "source": [
    "data.Precip.value_counts()"
   ]
  },
  {
   "cell_type": "code",
   "execution_count": 11,
   "id": "48bf4d59-5ea3-41f3-b642-783e732068f1",
   "metadata": {
    "scrolled": true
   },
   "outputs": [
    {
     "data": {
      "text/plain": [
       "PRCP\n",
       "0       57953\n",
       "T       15572\n",
       "0.01     3145\n",
       "0.02     2716\n",
       "0.03     1869\n",
       "        ...  \n",
       "5.85        1\n",
       "9.8         1\n",
       "5.7         1\n",
       "5.82        1\n",
       "6.34        1\n",
       "Name: count, Length: 531, dtype: int64"
      ]
     },
     "execution_count": 11,
     "metadata": {},
     "output_type": "execute_result"
    }
   ],
   "source": [
    "data.PRCP.value_counts()"
   ]
  },
  {
   "cell_type": "markdown",
   "id": "2f48d19b-afd5-407b-823c-bff7495cc587",
   "metadata": {},
   "source": [
    "Как видно из анализа данные столбцы не получается представить в типе данных float из-за наличия кривых данных, исправим это"
   ]
  },
  {
   "cell_type": "code",
   "execution_count": 12,
   "id": "e02bbf8c-bad0-41e9-aef2-745acd0c44a7",
   "metadata": {
    "scrolled": true
   },
   "outputs": [
    {
     "name": "stdout",
     "output_type": "stream",
     "text": [
      "Минимальное значение по столбцам:\n",
      " MaxTemp_VS_MAX                   -0.0\n",
      "MinTemp_VS_MIN                   -0.0\n",
      "MeanTemp_VS_MEA                  -0.0\n",
      "PoorWeather_VS_TSHDSBRSGF        True\n",
      "Snowfall_VS_SNF             -0.000004\n",
      "Precip_VS_PRCP              -0.000015\n",
      "WindGustSpd_VS_SPD               -0.0\n",
      "dtype: object\n",
      "Максимальное значение по столбцам:\n",
      " MaxTemp_VS_MAX                    0.0\n",
      "MinTemp_VS_MIN                    0.0\n",
      "MeanTemp_VS_MEA                   0.0\n",
      "PoorWeather_VS_TSHDSBRSGF        True\n",
      "Snowfall_VS_SNF              0.000008\n",
      "Precip_VS_PRCP               0.000015\n",
      "WindGustSpd_VS_SPD                0.0\n",
      "dtype: object\n"
     ]
    }
   ],
   "source": [
    "data.Snowfall = pd.to_numeric(data['Snowfall'], errors = 'coerce', downcast = 'float')\n",
    "data.SNF = pd.to_numeric(data['SNF'], errors = 'coerce', downcast = 'float')\n",
    "data.PRCP = pd.to_numeric(data['PRCP'], errors = 'coerce', downcast = 'float')\n",
    "data.Precip = pd.to_numeric(data['Precip'], errors = 'coerce', downcast = 'float')\n",
    "df_analyze['Snowfall_VS_SNF'] = data['Snowfall'] - data['SNF']  * 25.4\n",
    "df_analyze['Precip_VS_PRCP'] = data['Precip'] - data['PRCP']  * 25.4\n",
    "df_analyze['WindGustSpd_VS_SPD'] = data['WindGustSpd'] - data['SPD']  * 1.852\n",
    "print('Минимальное значение по столбцам:\\n', df_analyze.min())\n",
    "print('Максимальное значение по столбцам:\\n', df_analyze.max())"
   ]
  },
  {
   "cell_type": "code",
   "execution_count": 13,
   "id": "7f60e4d9-31d5-4413-a106-f1c59e3ba317",
   "metadata": {
    "scrolled": true
   },
   "outputs": [
    {
     "name": "stdout",
     "output_type": "stream",
     "text": [
      "<class 'pandas.core.frame.DataFrame'>\n",
      "RangeIndex: 110707 entries, 0 to 110706\n",
      "Data columns (total 15 columns):\n",
      " #   Column       Non-Null Count   Dtype  \n",
      "---  ------       --------------   -----  \n",
      " 0   STA          110707 non-null  int64  \n",
      " 1   Date         110707 non-null  object \n",
      " 2   Precip       95135 non-null   float32\n",
      " 3   WindGustSpd  495 non-null     float64\n",
      " 4   MaxTemp      110707 non-null  float64\n",
      " 5   MinTemp      110707 non-null  float64\n",
      " 6   MeanTemp     110707 non-null  float64\n",
      " 7   Snowfall     109601 non-null  float32\n",
      " 8   PoorWeather  31850 non-null   object \n",
      " 9   YR           110707 non-null  int64  \n",
      " 10  MO           110707 non-null  int64  \n",
      " 11  DA           110707 non-null  int64  \n",
      " 12  DR           496 non-null     float64\n",
      " 13  SND          5178 non-null    float64\n",
      " 14  PGT          489 non-null     float64\n",
      "dtypes: float32(2), float64(7), int64(4), object(2)\n",
      "memory usage: 11.8+ MB\n"
     ]
    }
   ],
   "source": [
    "data.drop(['PRCP','SNF', 'SPD'], axis=1,inplace=True)\n",
    "data.info()"
   ]
  },
  {
   "cell_type": "markdown",
   "id": "88347b91-0153-4dd8-82dd-5ca316620935",
   "metadata": {},
   "source": [
    "Также исключим одно из представлений даты, а именно 3 столбца год, месяц и день, так как используемые библиотеки могут работать с датами в стандартном представлении"
   ]
  },
  {
   "cell_type": "code",
   "execution_count": 14,
   "id": "ace2631c-4589-4760-89a9-4c958777b1fa",
   "metadata": {},
   "outputs": [
    {
     "name": "stdout",
     "output_type": "stream",
     "text": [
      "<class 'pandas.core.frame.DataFrame'>\n",
      "RangeIndex: 110707 entries, 0 to 110706\n",
      "Data columns (total 12 columns):\n",
      " #   Column       Non-Null Count   Dtype  \n",
      "---  ------       --------------   -----  \n",
      " 0   STA          110707 non-null  int64  \n",
      " 1   Date         110707 non-null  object \n",
      " 2   Precip       95135 non-null   float32\n",
      " 3   WindGustSpd  495 non-null     float64\n",
      " 4   MaxTemp      110707 non-null  float64\n",
      " 5   MinTemp      110707 non-null  float64\n",
      " 6   MeanTemp     110707 non-null  float64\n",
      " 7   Snowfall     109601 non-null  float32\n",
      " 8   PoorWeather  31850 non-null   object \n",
      " 9   DR           496 non-null     float64\n",
      " 10  SND          5178 non-null    float64\n",
      " 11  PGT          489 non-null     float64\n",
      "dtypes: float32(2), float64(7), int64(1), object(2)\n",
      "memory usage: 9.3+ MB\n"
     ]
    }
   ],
   "source": [
    "data.drop(['YR','MO','DA'], axis=1,inplace=True)\n",
    "data.info()"
   ]
  },
  {
   "cell_type": "markdown",
   "id": "ee971379-2681-4d50-a5c8-69cc6b015384",
   "metadata": {},
   "source": [
    "Также для удобства работы стоить разбить столбец с информацией о погоде \"PoorWeather\" на столбы по каждому событию"
   ]
  },
  {
   "cell_type": "code",
   "execution_count": 15,
   "id": "23753256-9f1b-48a1-9d27-027e736042f7",
   "metadata": {},
   "outputs": [
    {
     "data": {
      "text/plain": [
       "PoorWeather\n",
       "0000000000    79658\n",
       "1000000000    30104\n",
       "1000001000      334\n",
       "1010000000      177\n",
       "1000010000      114\n",
       "1010010000       98\n",
       "1001000000       59\n",
       "1100000000       51\n",
       "1000001001       46\n",
       "1000101000       23\n",
       "1000101001       15\n",
       "1101000000        9\n",
       "1010001000        5\n",
       "1100001000        5\n",
       "1000100000        2\n",
       "1000100001        2\n",
       "1010001001        2\n",
       "1000100100        1\n",
       "1000000001        1\n",
       "1101001000        1\n",
       "Name: count, dtype: int64"
      ]
     },
     "execution_count": 15,
     "metadata": {},
     "output_type": "execute_result"
    }
   ],
   "source": [
    "#Функция обработки строки\n",
    "def myFormatStr(st):\n",
    "    buf = ''\n",
    "    for i in st:\n",
    "        if(i == '1'):\n",
    "            buf = buf + '1'\n",
    "        else:\n",
    "            buf = buf + '0'\n",
    "    for i in range(10 - len(buf)):\n",
    "        buf = buf + '0'\n",
    "    return buf    \n",
    "data.PoorWeather = data.apply ( lambda x: myFormatStr(str(x['PoorWeather'])), axis = 1)\n",
    "data.PoorWeather.value_counts()"
   ]
  },
  {
   "cell_type": "markdown",
   "id": "0a60b5ae-91ae-4971-b242-df3dd33ba0f4",
   "metadata": {},
   "source": [
    "Таким образом мы привели к одному представлению все данные в столбце, выполним разбиение на разные колонки"
   ]
  },
  {
   "cell_type": "code",
   "execution_count": 16,
   "id": "aea8ce64-6b07-4240-812c-ea3c5091cd95",
   "metadata": {},
   "outputs": [],
   "source": [
    "def getCharStrInTrueFalse(st, index):\n",
    "    if st[index] == '1': \n",
    "        return True\n",
    "    return False\n",
    "\n",
    "data['Thunder'] = data.apply (lambda x: getCharStrInTrueFalse(x['PoorWeather'], 0), axis = 1)\n",
    "data['Sleet'] = data.apply (lambda x: getCharStrInTrueFalse(x['PoorWeather'], 1), axis = 1)\n",
    "data['Hail'] = data.apply (lambda x: getCharStrInTrueFalse(x['PoorWeather'], 2), axis = 1)\n",
    "data['Dust_or_Sand'] = data.apply (lambda x: getCharStrInTrueFalse(x['PoorWeather'], 3), axis = 1)\n",
    "data['Smoke_or_Haze'] = data.apply (lambda x: getCharStrInTrueFalse(x['PoorWeather'], 4), axis = 1)\n",
    "data['Blowing_Snow'] = data.apply (lambda x: getCharStrInTrueFalse(x['PoorWeather'], 5), axis = 1)\n",
    "data['Rain'] = data.apply (lambda x: getCharStrInTrueFalse(x['PoorWeather'], 6), axis = 1)\n",
    "data['Snow'] = data.apply (lambda x: getCharStrInTrueFalse(x['PoorWeather'], 7), axis = 1)\n",
    "data['Glaze'] = data.apply (lambda x: getCharStrInTrueFalse(x['PoorWeather'], 8), axis = 1)\n",
    "data['Fog'] = data.apply (lambda x: getCharStrInTrueFalse(x['PoorWeather'], 9), axis = 1)\n",
    "data.drop(['PoorWeather'], axis=1, inplace=True)"
   ]
  },
  {
   "cell_type": "code",
   "execution_count": 17,
   "id": "3c259d52-a818-492e-8e4e-685e5a477bda",
   "metadata": {},
   "outputs": [
    {
     "name": "stdout",
     "output_type": "stream",
     "text": [
      "<class 'pandas.core.frame.DataFrame'>\n",
      "RangeIndex: 110707 entries, 0 to 110706\n",
      "Data columns (total 21 columns):\n",
      " #   Column         Non-Null Count   Dtype  \n",
      "---  ------         --------------   -----  \n",
      " 0   STA            110707 non-null  int64  \n",
      " 1   Date           110707 non-null  object \n",
      " 2   Precip         95135 non-null   float32\n",
      " 3   WindGustSpd    495 non-null     float64\n",
      " 4   MaxTemp        110707 non-null  float64\n",
      " 5   MinTemp        110707 non-null  float64\n",
      " 6   MeanTemp       110707 non-null  float64\n",
      " 7   Snowfall       109601 non-null  float32\n",
      " 8   DR             496 non-null     float64\n",
      " 9   SND            5178 non-null    float64\n",
      " 10  PGT            489 non-null     float64\n",
      " 11  Thunder        110707 non-null  bool   \n",
      " 12  Sleet          110707 non-null  bool   \n",
      " 13  Hail           110707 non-null  bool   \n",
      " 14  Dust_or_Sand   110707 non-null  bool   \n",
      " 15  Smoke_or_Haze  110707 non-null  bool   \n",
      " 16  Blowing_Snow   110707 non-null  bool   \n",
      " 17  Rain           110707 non-null  bool   \n",
      " 18  Snow           110707 non-null  bool   \n",
      " 19  Glaze          110707 non-null  bool   \n",
      " 20  Fog            110707 non-null  bool   \n",
      "dtypes: bool(10), float32(2), float64(7), int64(1), object(1)\n",
      "memory usage: 9.5+ MB\n"
     ]
    }
   ],
   "source": [
    "data.info()"
   ]
  },
  {
   "cell_type": "markdown",
   "id": "83f74e06-a94c-4e14-940f-43fdb9b82500",
   "metadata": {},
   "source": [
    "Проанализируем полученные столбцы"
   ]
  },
  {
   "cell_type": "code",
   "execution_count": 18,
   "id": "9fd58b69-4841-44fc-9e69-48a69cafae1d",
   "metadata": {},
   "outputs": [
    {
     "name": "stdout",
     "output_type": "stream",
     "text": [
      "Thunder\n",
      "False    79658\n",
      "True     31049\n",
      "Name: count, dtype: int64\n",
      "Sleet\n",
      "False    110641\n",
      "True         66\n",
      "Name: count, dtype: int64\n",
      "Hail\n",
      "False    110425\n",
      "True        282\n",
      "Name: count, dtype: int64\n",
      "Dust_or_Sand\n",
      "False    110638\n",
      "True         69\n",
      "Name: count, dtype: int64\n",
      "Smoke_or_Haze\n",
      "False    110664\n",
      "True         43\n",
      "Name: count, dtype: int64\n",
      "Blowing_Snow\n",
      "False    110495\n",
      "True        212\n",
      "Name: count, dtype: int64\n",
      "Rain\n",
      "False    110276\n",
      "True        431\n",
      "Name: count, dtype: int64\n",
      "Snow\n",
      "False    110706\n",
      "True          1\n",
      "Name: count, dtype: int64\n",
      "Glaze\n",
      "False    110707\n",
      "Name: count, dtype: int64\n",
      "Fog\n",
      "False    110641\n",
      "True         66\n",
      "Name: count, dtype: int64\n"
     ]
    }
   ],
   "source": [
    "print(data.Thunder.value_counts())\n",
    "print(data.Sleet.value_counts())\n",
    "print(data.Hail.value_counts())\n",
    "print(data.Dust_or_Sand.value_counts())\n",
    "print(data.Smoke_or_Haze.value_counts())\n",
    "print(data.Blowing_Snow.value_counts())\n",
    "print(data.Rain.value_counts())\n",
    "print(data.Snow.value_counts())\n",
    "print(data.Glaze.value_counts())\n",
    "print(data.Fog.value_counts())"
   ]
  },
  {
   "cell_type": "markdown",
   "id": "54d122d2-b984-43a6-b536-cd253c98cf0e",
   "metadata": {},
   "source": [
    "Добавим в датасет информацию о положении метеостанций использую еще один дата сет с описанием метеостанций"
   ]
  },
  {
   "cell_type": "code",
   "execution_count": 19,
   "id": "c6e75f11-4ecd-4351-ae33-d718e03ccfb1",
   "metadata": {},
   "outputs": [
    {
     "data": {
      "text/html": [
       "<div>\n",
       "<style scoped>\n",
       "    .dataframe tbody tr th:only-of-type {\n",
       "        vertical-align: middle;\n",
       "    }\n",
       "\n",
       "    .dataframe tbody tr th {\n",
       "        vertical-align: top;\n",
       "    }\n",
       "\n",
       "    .dataframe thead th {\n",
       "        text-align: right;\n",
       "    }\n",
       "</style>\n",
       "<table border=\"1\" class=\"dataframe\">\n",
       "  <thead>\n",
       "    <tr style=\"text-align: right;\">\n",
       "      <th></th>\n",
       "      <th>WBAN</th>\n",
       "      <th>NAME</th>\n",
       "      <th>STATE/COUNTRY ID</th>\n",
       "      <th>LAT</th>\n",
       "      <th>LON</th>\n",
       "      <th>ELEV</th>\n",
       "      <th>Latitude</th>\n",
       "      <th>Longitude</th>\n",
       "    </tr>\n",
       "  </thead>\n",
       "  <tbody>\n",
       "    <tr>\n",
       "      <th>0</th>\n",
       "      <td>33013</td>\n",
       "      <td>AIN EL</td>\n",
       "      <td>AL</td>\n",
       "      <td>3623N</td>\n",
       "      <td>00637E</td>\n",
       "      <td>611</td>\n",
       "      <td>36.383333</td>\n",
       "      <td>6.650000</td>\n",
       "    </tr>\n",
       "    <tr>\n",
       "      <th>1</th>\n",
       "      <td>33031</td>\n",
       "      <td>LA SENIA</td>\n",
       "      <td>AL</td>\n",
       "      <td>3537N</td>\n",
       "      <td>00037E</td>\n",
       "      <td>88</td>\n",
       "      <td>35.616667</td>\n",
       "      <td>0.583333</td>\n",
       "    </tr>\n",
       "    <tr>\n",
       "      <th>2</th>\n",
       "      <td>33023</td>\n",
       "      <td>MAISON BLANCHE</td>\n",
       "      <td>AL</td>\n",
       "      <td>3643N</td>\n",
       "      <td>00314E</td>\n",
       "      <td>23</td>\n",
       "      <td>36.716667</td>\n",
       "      <td>3.216667</td>\n",
       "    </tr>\n",
       "    <tr>\n",
       "      <th>3</th>\n",
       "      <td>33044</td>\n",
       "      <td>TELERGMA</td>\n",
       "      <td>AL</td>\n",
       "      <td>3607N</td>\n",
       "      <td>00621E</td>\n",
       "      <td>754</td>\n",
       "      <td>36.116667</td>\n",
       "      <td>6.416667</td>\n",
       "    </tr>\n",
       "    <tr>\n",
       "      <th>4</th>\n",
       "      <td>12001</td>\n",
       "      <td>TINDOUF</td>\n",
       "      <td>AL</td>\n",
       "      <td>2741N</td>\n",
       "      <td>00809W</td>\n",
       "      <td>443</td>\n",
       "      <td>27.683333</td>\n",
       "      <td>-8.083333</td>\n",
       "    </tr>\n",
       "  </tbody>\n",
       "</table>\n",
       "</div>"
      ],
      "text/plain": [
       "    WBAN            NAME STATE/COUNTRY ID    LAT     LON  ELEV   Latitude  \\\n",
       "0  33013          AIN EL               AL  3623N  00637E   611  36.383333   \n",
       "1  33031        LA SENIA               AL  3537N  00037E    88  35.616667   \n",
       "2  33023  MAISON BLANCHE               AL  3643N  00314E    23  36.716667   \n",
       "3  33044        TELERGMA               AL  3607N  00621E   754  36.116667   \n",
       "4  12001         TINDOUF               AL  2741N  00809W   443  27.683333   \n",
       "\n",
       "   Longitude  \n",
       "0   6.650000  \n",
       "1   0.583333  \n",
       "2   3.216667  \n",
       "3   6.416667  \n",
       "4  -8.083333  "
      ]
     },
     "execution_count": 19,
     "metadata": {},
     "output_type": "execute_result"
    }
   ],
   "source": [
    "dataStation = pd.read_csv('Weather_Station_Locations.csv', low_memory=False)\n",
    "dataStation.head()"
   ]
  },
  {
   "cell_type": "code",
   "execution_count": 20,
   "id": "063ef387-aec3-4d47-9894-d48f187bd427",
   "metadata": {},
   "outputs": [
    {
     "name": "stdout",
     "output_type": "stream",
     "text": [
      "<class 'pandas.core.frame.DataFrame'>\n",
      "RangeIndex: 150 entries, 0 to 149\n",
      "Data columns (total 8 columns):\n",
      " #   Column            Non-Null Count  Dtype  \n",
      "---  ------            --------------  -----  \n",
      " 0   WBAN              150 non-null    int64  \n",
      " 1   NAME              150 non-null    object \n",
      " 2   STATE/COUNTRY ID  150 non-null    object \n",
      " 3   LAT               150 non-null    object \n",
      " 4   LON               150 non-null    object \n",
      " 5   ELEV              150 non-null    int64  \n",
      " 6   Latitude          150 non-null    float64\n",
      " 7   Longitude         150 non-null    float64\n",
      "dtypes: float64(2), int64(2), object(4)\n",
      "memory usage: 9.5+ KB\n"
     ]
    }
   ],
   "source": [
    "dataStation.info()"
   ]
  },
  {
   "cell_type": "code",
   "execution_count": 21,
   "id": "0abdc921-dfe9-4466-bbab-5ac97978fdb0",
   "metadata": {},
   "outputs": [
    {
     "name": "stdout",
     "output_type": "stream",
     "text": [
      "<class 'pandas.core.frame.DataFrame'>\n",
      "RangeIndex: 102221 entries, 0 to 102220\n",
      "Data columns (total 29 columns):\n",
      " #   Column            Non-Null Count   Dtype  \n",
      "---  ------            --------------   -----  \n",
      " 0   STA               102221 non-null  int64  \n",
      " 1   Date              102221 non-null  object \n",
      " 2   Precip            88086 non-null   float32\n",
      " 3   WindGustSpd       495 non-null     float64\n",
      " 4   MaxTemp           102221 non-null  float64\n",
      " 5   MinTemp           102221 non-null  float64\n",
      " 6   MeanTemp          102221 non-null  float64\n",
      " 7   Snowfall          101117 non-null  float32\n",
      " 8   DR                496 non-null     float64\n",
      " 9   SND               5178 non-null    float64\n",
      " 10  PGT               489 non-null     float64\n",
      " 11  Thunder           102221 non-null  bool   \n",
      " 12  Sleet             102221 non-null  bool   \n",
      " 13  Hail              102221 non-null  bool   \n",
      " 14  Dust_or_Sand      102221 non-null  bool   \n",
      " 15  Smoke_or_Haze     102221 non-null  bool   \n",
      " 16  Blowing_Snow      102221 non-null  bool   \n",
      " 17  Rain              102221 non-null  bool   \n",
      " 18  Snow              102221 non-null  bool   \n",
      " 19  Glaze             102221 non-null  bool   \n",
      " 20  Fog               102221 non-null  bool   \n",
      " 21  WBAN              102221 non-null  int64  \n",
      " 22  NAME              102221 non-null  object \n",
      " 23  STATE/COUNTRY ID  102221 non-null  object \n",
      " 24  LAT               102221 non-null  object \n",
      " 25  LON               102221 non-null  object \n",
      " 26  ELEV              102221 non-null  int64  \n",
      " 27  Latitude          102221 non-null  float64\n",
      " 28  Longitude         102221 non-null  float64\n",
      "dtypes: bool(10), float32(2), float64(9), int64(3), object(5)\n",
      "memory usage: 15.0+ MB\n"
     ]
    }
   ],
   "source": [
    "allData = pd.DataFrame()\n",
    "allData = pd.merge(data, dataStation, left_on = 'STA', right_on= 'WBAN')\n",
    "allData.info()"
   ]
  },
  {
   "cell_type": "markdown",
   "id": "f9e40400-e975-44a4-b3bf-efe7cea2d3fa",
   "metadata": {},
   "source": [
    "Часть данных исключилась, так как не имеется информации о каких-то станциях"
   ]
  },
  {
   "cell_type": "code",
   "execution_count": 22,
   "id": "23c82ebb-aef3-4bbb-a9f9-983ffa3d3f0d",
   "metadata": {},
   "outputs": [
    {
     "data": {
      "text/html": [
       "<div>\n",
       "<style scoped>\n",
       "    .dataframe tbody tr th:only-of-type {\n",
       "        vertical-align: middle;\n",
       "    }\n",
       "\n",
       "    .dataframe tbody tr th {\n",
       "        vertical-align: top;\n",
       "    }\n",
       "\n",
       "    .dataframe thead th {\n",
       "        text-align: right;\n",
       "    }\n",
       "</style>\n",
       "<table border=\"1\" class=\"dataframe\">\n",
       "  <thead>\n",
       "    <tr style=\"text-align: right;\">\n",
       "      <th></th>\n",
       "      <th>STA</th>\n",
       "      <th>Date</th>\n",
       "      <th>Precip</th>\n",
       "      <th>WindGustSpd</th>\n",
       "      <th>MaxTemp</th>\n",
       "      <th>MinTemp</th>\n",
       "      <th>MeanTemp</th>\n",
       "      <th>Snowfall</th>\n",
       "      <th>DR</th>\n",
       "      <th>SND</th>\n",
       "      <th>...</th>\n",
       "      <th>Glaze</th>\n",
       "      <th>Fog</th>\n",
       "      <th>WBAN</th>\n",
       "      <th>NAME</th>\n",
       "      <th>STATE/COUNTRY ID</th>\n",
       "      <th>LAT</th>\n",
       "      <th>LON</th>\n",
       "      <th>ELEV</th>\n",
       "      <th>Latitude</th>\n",
       "      <th>Longitude</th>\n",
       "    </tr>\n",
       "  </thead>\n",
       "  <tbody>\n",
       "    <tr>\n",
       "      <th>18772</th>\n",
       "      <td>11610</td>\n",
       "      <td>1942-11-27</td>\n",
       "      <td>3.048</td>\n",
       "      <td>NaN</td>\n",
       "      <td>31.111111</td>\n",
       "      <td>22.222222</td>\n",
       "      <td>26.666667</td>\n",
       "      <td>0.0</td>\n",
       "      <td>NaN</td>\n",
       "      <td>NaN</td>\n",
       "      <td>...</td>\n",
       "      <td>False</td>\n",
       "      <td>False</td>\n",
       "      <td>11610</td>\n",
       "      <td>WALLER/BWI</td>\n",
       "      <td>TD</td>\n",
       "      <td>1037N</td>\n",
       "      <td>06113W</td>\n",
       "      <td>41</td>\n",
       "      <td>10.616667</td>\n",
       "      <td>-61.016667</td>\n",
       "    </tr>\n",
       "    <tr>\n",
       "      <th>26861</th>\n",
       "      <td>12101</td>\n",
       "      <td>1945-6-28</td>\n",
       "      <td>0.000</td>\n",
       "      <td>NaN</td>\n",
       "      <td>40.000000</td>\n",
       "      <td>24.444444</td>\n",
       "      <td>32.222222</td>\n",
       "      <td>0.0</td>\n",
       "      <td>NaN</td>\n",
       "      <td>NaN</td>\n",
       "      <td>...</td>\n",
       "      <td>False</td>\n",
       "      <td>False</td>\n",
       "      <td>12101</td>\n",
       "      <td>ATAR</td>\n",
       "      <td>MT</td>\n",
       "      <td>2028N</td>\n",
       "      <td>01302W</td>\n",
       "      <td>235</td>\n",
       "      <td>20.466667</td>\n",
       "      <td>-13.033333</td>\n",
       "    </tr>\n",
       "    <tr>\n",
       "      <th>90737</th>\n",
       "      <td>60701</td>\n",
       "      <td>1945-12-9</td>\n",
       "      <td>0.000</td>\n",
       "      <td>NaN</td>\n",
       "      <td>34.444444</td>\n",
       "      <td>25.555556</td>\n",
       "      <td>30.000000</td>\n",
       "      <td>0.0</td>\n",
       "      <td>NaN</td>\n",
       "      <td>NaN</td>\n",
       "      <td>...</td>\n",
       "      <td>False</td>\n",
       "      <td>False</td>\n",
       "      <td>60701</td>\n",
       "      <td>CANTON ISLAND</td>\n",
       "      <td>CT</td>\n",
       "      <td>0246S</td>\n",
       "      <td>17143W</td>\n",
       "      <td>3</td>\n",
       "      <td>-2.766667</td>\n",
       "      <td>-171.750000</td>\n",
       "    </tr>\n",
       "    <tr>\n",
       "      <th>21513</th>\n",
       "      <td>11701</td>\n",
       "      <td>1945-10-3</td>\n",
       "      <td>0.000</td>\n",
       "      <td>NaN</td>\n",
       "      <td>33.333333</td>\n",
       "      <td>21.666667</td>\n",
       "      <td>27.777778</td>\n",
       "      <td>0.0</td>\n",
       "      <td>NaN</td>\n",
       "      <td>NaN</td>\n",
       "      <td>...</td>\n",
       "      <td>False</td>\n",
       "      <td>False</td>\n",
       "      <td>11701</td>\n",
       "      <td>PORT AU PRINCE</td>\n",
       "      <td>HA</td>\n",
       "      <td>1833N</td>\n",
       "      <td>07221W</td>\n",
       "      <td>16</td>\n",
       "      <td>18.550000</td>\n",
       "      <td>-72.350000</td>\n",
       "    </tr>\n",
       "    <tr>\n",
       "      <th>44717</th>\n",
       "      <td>22504</td>\n",
       "      <td>1941-10-27</td>\n",
       "      <td>0.000</td>\n",
       "      <td>NaN</td>\n",
       "      <td>30.000000</td>\n",
       "      <td>22.222222</td>\n",
       "      <td>26.111111</td>\n",
       "      <td>0.0</td>\n",
       "      <td>NaN</td>\n",
       "      <td>NaN</td>\n",
       "      <td>...</td>\n",
       "      <td>False</td>\n",
       "      <td>False</td>\n",
       "      <td>22504</td>\n",
       "      <td>HICKAM/AFB</td>\n",
       "      <td>HI</td>\n",
       "      <td>2120N</td>\n",
       "      <td>15757W</td>\n",
       "      <td>3</td>\n",
       "      <td>21.333333</td>\n",
       "      <td>-157.900000</td>\n",
       "    </tr>\n",
       "  </tbody>\n",
       "</table>\n",
       "<p>5 rows × 29 columns</p>\n",
       "</div>"
      ],
      "text/plain": [
       "         STA        Date  Precip  WindGustSpd    MaxTemp    MinTemp  \\\n",
       "18772  11610  1942-11-27   3.048          NaN  31.111111  22.222222   \n",
       "26861  12101   1945-6-28   0.000          NaN  40.000000  24.444444   \n",
       "90737  60701   1945-12-9   0.000          NaN  34.444444  25.555556   \n",
       "21513  11701   1945-10-3   0.000          NaN  33.333333  21.666667   \n",
       "44717  22504  1941-10-27   0.000          NaN  30.000000  22.222222   \n",
       "\n",
       "        MeanTemp  Snowfall  DR  SND  ...  Glaze    Fog   WBAN            NAME  \\\n",
       "18772  26.666667       0.0 NaN  NaN  ...  False  False  11610      WALLER/BWI   \n",
       "26861  32.222222       0.0 NaN  NaN  ...  False  False  12101            ATAR   \n",
       "90737  30.000000       0.0 NaN  NaN  ...  False  False  60701   CANTON ISLAND   \n",
       "21513  27.777778       0.0 NaN  NaN  ...  False  False  11701  PORT AU PRINCE   \n",
       "44717  26.111111       0.0 NaN  NaN  ...  False  False  22504      HICKAM/AFB   \n",
       "\n",
       "       STATE/COUNTRY ID    LAT     LON  ELEV   Latitude   Longitude  \n",
       "18772                TD  1037N  06113W    41  10.616667  -61.016667  \n",
       "26861                MT  2028N  01302W   235  20.466667  -13.033333  \n",
       "90737                CT  0246S  17143W     3  -2.766667 -171.750000  \n",
       "21513                HA  1833N  07221W    16  18.550000  -72.350000  \n",
       "44717                HI  2120N  15757W     3  21.333333 -157.900000  \n",
       "\n",
       "[5 rows x 29 columns]"
      ]
     },
     "execution_count": 22,
     "metadata": {},
     "output_type": "execute_result"
    }
   ],
   "source": [
    "allData.sample(5)"
   ]
  },
  {
   "cell_type": "markdown",
   "id": "5832d987-94b1-4758-8574-be0d04d22285",
   "metadata": {},
   "source": [
    "Исключим ненужные столбцы"
   ]
  },
  {
   "cell_type": "code",
   "execution_count": 23,
   "id": "9a302d9e-8be7-4067-99e3-a4fb38af8f4b",
   "metadata": {},
   "outputs": [],
   "source": [
    "allData.drop(['STA','LAT','LON','WBAN'], axis=1,inplace=True)"
   ]
  },
  {
   "cell_type": "markdown",
   "id": "a9156205-2599-41cb-a516-171c4c3a0b81",
   "metadata": {},
   "source": [
    "Таким образом мы получили датасет без повторяющихся данных и в удобном для анализа представлении"
   ]
  },
  {
   "cell_type": "code",
   "execution_count": 24,
   "id": "fa9ff900-1d7b-4c27-b5d5-08b24808b8a3",
   "metadata": {},
   "outputs": [
    {
     "name": "stdout",
     "output_type": "stream",
     "text": [
      "<class 'pandas.core.frame.DataFrame'>\n",
      "RangeIndex: 102221 entries, 0 to 102220\n",
      "Data columns (total 25 columns):\n",
      " #   Column            Non-Null Count   Dtype  \n",
      "---  ------            --------------   -----  \n",
      " 0   Date              102221 non-null  object \n",
      " 1   Precip            88086 non-null   float32\n",
      " 2   WindGustSpd       495 non-null     float64\n",
      " 3   MaxTemp           102221 non-null  float64\n",
      " 4   MinTemp           102221 non-null  float64\n",
      " 5   MeanTemp          102221 non-null  float64\n",
      " 6   Snowfall          101117 non-null  float32\n",
      " 7   DR                496 non-null     float64\n",
      " 8   SND               5178 non-null    float64\n",
      " 9   PGT               489 non-null     float64\n",
      " 10  Thunder           102221 non-null  bool   \n",
      " 11  Sleet             102221 non-null  bool   \n",
      " 12  Hail              102221 non-null  bool   \n",
      " 13  Dust_or_Sand      102221 non-null  bool   \n",
      " 14  Smoke_or_Haze     102221 non-null  bool   \n",
      " 15  Blowing_Snow      102221 non-null  bool   \n",
      " 16  Rain              102221 non-null  bool   \n",
      " 17  Snow              102221 non-null  bool   \n",
      " 18  Glaze             102221 non-null  bool   \n",
      " 19  Fog               102221 non-null  bool   \n",
      " 20  NAME              102221 non-null  object \n",
      " 21  STATE/COUNTRY ID  102221 non-null  object \n",
      " 22  ELEV              102221 non-null  int64  \n",
      " 23  Latitude          102221 non-null  float64\n",
      " 24  Longitude         102221 non-null  float64\n",
      "dtypes: bool(10), float32(2), float64(9), int64(1), object(3)\n",
      "memory usage: 11.9+ MB\n"
     ]
    }
   ],
   "source": [
    "allData.info()"
   ]
  }
 ],
 "metadata": {
  "kernelspec": {
   "display_name": "Python 3 (ipykernel)",
   "language": "python",
   "name": "python3"
  },
  "language_info": {
   "codemirror_mode": {
    "name": "ipython",
    "version": 3
   },
   "file_extension": ".py",
   "mimetype": "text/x-python",
   "name": "python",
   "nbconvert_exporter": "python",
   "pygments_lexer": "ipython3",
   "version": "3.11.8"
  }
 },
 "nbformat": 4,
 "nbformat_minor": 5
}
